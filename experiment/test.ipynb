{
 "cells": [
  {
   "cell_type": "code",
   "execution_count": 6,
   "id": "9e538897",
   "metadata": {},
   "outputs": [
    {
     "data": {
      "text/plain": [
       "True"
      ]
     },
     "execution_count": 6,
     "metadata": {},
     "output_type": "execute_result"
    }
   ],
   "source": [
    "import os\n",
    "import json\n",
    "import pandas as pd\n",
    "import traceback\n",
    "from dotenv import load_dotenv  \n",
    "\n",
    "load_dotenv()"
   ]
  },
  {
   "cell_type": "code",
   "execution_count": 7,
   "id": "98773545",
   "metadata": {},
   "outputs": [],
   "source": [
    "KEY = os.getenv(\"OPENAI_API_KEY\", None)\n",
    "if not KEY:\n",
    "    raise ValueError(\"Please set the OPENAI_API_KEY environment variable.\")"
   ]
  },
  {
   "cell_type": "code",
   "execution_count": 8,
   "id": "36dfac69",
   "metadata": {},
   "outputs": [],
   "source": [
    "from langchain.chat_models import ChatOpenAI\n",
    "\n",
    "llm = ChatOpenAI(model_name=\"gpt-3.5-turbo\",temperature=0.5)"
   ]
  },
  {
   "cell_type": "code",
   "execution_count": 10,
   "id": "f98d4e8e",
   "metadata": {},
   "outputs": [],
   "source": [
    "from langchain.llms import OpenAI\n",
    "from langchain.prompts import PromptTemplate\n",
    "from langchain.chains import LLMChain\n",
    "from langchain.chains import SequentialChain\n",
    "from langchain.callbacks import get_openai_callback\n",
    "import PyPDF2"
   ]
  },
  {
   "cell_type": "code",
   "execution_count": 11,
   "id": "3165b538",
   "metadata": {},
   "outputs": [],
   "source": [
    "RESPONSE_JSON = {\n",
    "    \"1\": {\n",
    "        \"mcq\": \"multiple choice question\",\n",
    "        \"options\": {\n",
    "            \"a\": \"choice here\",\n",
    "            \"b\": \"choice here\",\n",
    "            \"c\": \"choice here\",\n",
    "            \"d\": \"choice here\",\n",
    "        },\n",
    "        \"correct\": \"correct answer\",\n",
    "    },\n",
    "    \"2\": {\n",
    "        \"mcq\": \"multiple choice question\",\n",
    "        \"options\": {\n",
    "            \"a\": \"choice here\",\n",
    "            \"b\": \"choice here\",\n",
    "            \"c\": \"choice here\",\n",
    "            \"d\": \"choice here\",\n",
    "        },\n",
    "        \"correct\": \"correct answer\",\n",
    "    },\n",
    "    \"3\": {\n",
    "        \"mcq\": \"multiple choice question\",\n",
    "        \"options\": {\n",
    "            \"a\": \"choice here\",\n",
    "            \"b\": \"choice here\",\n",
    "            \"c\": \"choice here\",\n",
    "            \"d\": \"choice here\",\n",
    "        },\n",
    "        \"correct\": \"correct answer\",\n",
    "    },\n",
    "}"
   ]
  },
  {
   "cell_type": "code",
   "execution_count": 66,
   "id": "d5292932",
   "metadata": {},
   "outputs": [],
   "source": [
    "TEMPLATE = \"\"\"Text = {text}\n",
    "You are an expert mcq generator , Given the above text, it is your job to create a quiz of {number} multiple choice questions.\n",
    "Each question should have 4 options, one of which is correct. The correct answer should be indicated by the letter 'A', 'B', 'C', or 'D'.\n",
    "The questions should be of topic {subject} in {tone} tone. Make sure questions are not repeated mMake sure to format your response like  RESPONSE_JSON below  and use it as a guide.\n",
    "\n",
    "### RESPONSE_JSON\n",
    "{response_json}\n",
    "\"\"\""
   ]
  },
  {
   "cell_type": "code",
   "execution_count": 67,
   "id": "02d23264",
   "metadata": {},
   "outputs": [],
   "source": [
    "quiz_generator_prompt = PromptTemplate(\n",
    "    input_variables=[\"text\",\"number\",\"subject\",\"tone\",\"response_json\"],\n",
    "    template=TEMPLATE)"
   ]
  },
  {
   "cell_type": "code",
   "execution_count": 68,
   "id": "6f6c0d46",
   "metadata": {},
   "outputs": [],
   "source": [
    "quiz_chain=LLMChain(llm=llm, prompt=quiz_generator_prompt, output_key=\"quiz\", verbose=True)"
   ]
  },
  {
   "cell_type": "code",
   "execution_count": 69,
   "id": "44212186",
   "metadata": {},
   "outputs": [],
   "source": [
    "TEMPLATE2=\"\"\"\n",
    "You are an expert english grammarian and writer. Given a Multiple Choice Quiz for {subject} students.\\\n",
    "You need to evaluate the complexity of the question and give a complete analysis of the quiz. Only use at max 50 words for complexity analysis. \n",
    "if the quiz is not at per with the cognitive and analytical abilities of the students,\\\n",
    "update the quiz questions which needs to be changed and change the tone such that it perfectly fits the student abilities\n",
    "Quiz_MCQs:\n",
    "{quiz}\n",
    "\n",
    "Check from an expert English Writer of the above quiz:\n",
    "\"\"\"\n"
   ]
  },
  {
   "cell_type": "code",
   "execution_count": 70,
   "id": "b5bf3c84",
   "metadata": {},
   "outputs": [],
   "source": [
    "quiz_evaluation_prompt = PromptTemplate(input_variables=[\"subject\", \"quiz\"],\n",
    "                                        template=TEMPLATE)"
   ]
  },
  {
   "cell_type": "code",
   "execution_count": 71,
   "id": "47db3478",
   "metadata": {},
   "outputs": [],
   "source": [
    "quiz_evaluation_chain = LLMChain(llm=llm, prompt=quiz_evaluation_prompt, output_key=\"evaluation\", verbose=True)\n"
   ]
  },
  {
   "cell_type": "code",
   "execution_count": 72,
   "id": "3c36a89f",
   "metadata": {},
   "outputs": [],
   "source": [
    "generate_evaluate_quiz_chain = SequentialChain(\n",
    "    chains=[quiz_chain, quiz_evaluation_chain],\n",
    "    input_variables=[\"text\", \"number\", \"subject\", \"tone\", \"response_json\"],\n",
    "    output_variables=[\"quiz\", \"evaluation\"],\n",
    "    verbose=True\n",
    ")   "
   ]
  },
  {
   "cell_type": "code",
   "execution_count": 73,
   "id": "29f5e5af",
   "metadata": {},
   "outputs": [],
   "source": [
    "with open(\"../data.txt\", \"r\") as file:\n",
    "    TEXT = file.read()"
   ]
  },
  {
   "cell_type": "code",
   "execution_count": 74,
   "id": "ca35cde1",
   "metadata": {},
   "outputs": [
    {
     "name": "stdout",
     "output_type": "stream",
     "text": [
      "Biology is the scientific study of life.[1][2][3] It is a natural science with a broad scope but has several unifying themes that tie it together as a single, coherent field.[1][2][3] For instance, all organisms are made up of cells that process hereditary information encoded in genes, which can be transmitted to future generations. Another major theme is evolution, which explains the unity and diversity of life.[1][2][3] Energy processing is also important to life as it allows organisms to move, grow, and reproduce.[1][2][3] Finally, all organisms are able to regulate their own internal environments.[1][2][3][4][5]\n",
      "\n",
      "Biologists are able to study life at multiple levels of organization,[1] from the molecular biology of a cell to the anatomy and physiology of plants and animals, and evolution of populations.[1][6] Hence, there are multiple subdisciplines within biology, each defined by the nature of their research questions and the tools that they use.[7][8][9] Like other scientists, biologists use the scientific method to make observations, pose questions, generate hypotheses, perform experiments, and form conclusions about the world around them.[1]\n",
      "\n",
      "Life on Earth, which emerged more than 3.7 billion years ago,[10] is immensely diverse. Biologists have sought to study and classify the various forms of life, from prokaryotic organisms such as archaea and bacteria to eukaryotic organisms such as protists, fungi, plants, and animals. These various organisms contribute to the biodiversity of an ecosystem, where they play specialized roles in the cycling of nutrients and energy through their biophysical environment.\n"
     ]
    }
   ],
   "source": [
    "print(TEXT)"
   ]
  },
  {
   "cell_type": "code",
   "execution_count": 75,
   "id": "541d39a4",
   "metadata": {},
   "outputs": [],
   "source": [
    "NUMBER = 5\n",
    "SUBJECT = \"Computer Science\"\n",
    "TONE = \"Professional\""
   ]
  },
  {
   "cell_type": "code",
   "execution_count": 76,
   "id": "d86ef71f",
   "metadata": {},
   "outputs": [
    {
     "name": "stdout",
     "output_type": "stream",
     "text": [
      "\n",
      "\n",
      "\u001b[1m> Entering new SequentialChain chain...\u001b[0m\n",
      "\n",
      "\n",
      "\u001b[1m> Entering new LLMChain chain...\u001b[0m\n",
      "Prompt after formatting:\n",
      "\u001b[32;1m\u001b[1;3mText = Biology is the scientific study of life.[1][2][3] It is a natural science with a broad scope but has several unifying themes that tie it together as a single, coherent field.[1][2][3] For instance, all organisms are made up of cells that process hereditary information encoded in genes, which can be transmitted to future generations. Another major theme is evolution, which explains the unity and diversity of life.[1][2][3] Energy processing is also important to life as it allows organisms to move, grow, and reproduce.[1][2][3] Finally, all organisms are able to regulate their own internal environments.[1][2][3][4][5]\n",
      "\n",
      "Biologists are able to study life at multiple levels of organization,[1] from the molecular biology of a cell to the anatomy and physiology of plants and animals, and evolution of populations.[1][6] Hence, there are multiple subdisciplines within biology, each defined by the nature of their research questions and the tools that they use.[7][8][9] Like other scientists, biologists use the scientific method to make observations, pose questions, generate hypotheses, perform experiments, and form conclusions about the world around them.[1]\n",
      "\n",
      "Life on Earth, which emerged more than 3.7 billion years ago,[10] is immensely diverse. Biologists have sought to study and classify the various forms of life, from prokaryotic organisms such as archaea and bacteria to eukaryotic organisms such as protists, fungi, plants, and animals. These various organisms contribute to the biodiversity of an ecosystem, where they play specialized roles in the cycling of nutrients and energy through their biophysical environment.\n",
      "You are an expert mcq generator , Given the above text, it is your job to create a quiz of 5 multiple choice questions.\n",
      "Each question should have 4 options, one of which is correct. The correct answer should be indicated by the letter 'A', 'B', 'C', or 'D'.\n",
      "The questions should be of topic Computer Science in Professional tone. Make sure questions are not repeated mMake sure to format your response like  RESPONSE_JSON below  and use it as a guide.\n",
      "\n",
      "### RESPONSE_JSON\n",
      "{\"1\": {\"mcq\": \"multiple choice question\", \"options\": {\"a\": \"choice here\", \"b\": \"choice here\", \"c\": \"choice here\", \"d\": \"choice here\"}, \"correct\": \"correct answer\"}, \"2\": {\"mcq\": \"multiple choice question\", \"options\": {\"a\": \"choice here\", \"b\": \"choice here\", \"c\": \"choice here\", \"d\": \"choice here\"}, \"correct\": \"correct answer\"}, \"3\": {\"mcq\": \"multiple choice question\", \"options\": {\"a\": \"choice here\", \"b\": \"choice here\", \"c\": \"choice here\", \"d\": \"choice here\"}, \"correct\": \"correct answer\"}}\n",
      "\u001b[0m\n",
      "\n",
      "\u001b[1m> Finished chain.\u001b[0m\n",
      "\n",
      "\n",
      "\u001b[1m> Entering new LLMChain chain...\u001b[0m\n",
      "Prompt after formatting:\n",
      "\u001b[32;1m\u001b[1;3mText = Biology is the scientific study of life.[1][2][3] It is a natural science with a broad scope but has several unifying themes that tie it together as a single, coherent field.[1][2][3] For instance, all organisms are made up of cells that process hereditary information encoded in genes, which can be transmitted to future generations. Another major theme is evolution, which explains the unity and diversity of life.[1][2][3] Energy processing is also important to life as it allows organisms to move, grow, and reproduce.[1][2][3] Finally, all organisms are able to regulate their own internal environments.[1][2][3][4][5]\n",
      "\n",
      "Biologists are able to study life at multiple levels of organization,[1] from the molecular biology of a cell to the anatomy and physiology of plants and animals, and evolution of populations.[1][6] Hence, there are multiple subdisciplines within biology, each defined by the nature of their research questions and the tools that they use.[7][8][9] Like other scientists, biologists use the scientific method to make observations, pose questions, generate hypotheses, perform experiments, and form conclusions about the world around them.[1]\n",
      "\n",
      "Life on Earth, which emerged more than 3.7 billion years ago,[10] is immensely diverse. Biologists have sought to study and classify the various forms of life, from prokaryotic organisms such as archaea and bacteria to eukaryotic organisms such as protists, fungi, plants, and animals. These various organisms contribute to the biodiversity of an ecosystem, where they play specialized roles in the cycling of nutrients and energy through their biophysical environment.\n",
      "You are an expert mcq generator , Given the above text, it is your job to create a quiz of 5 multiple choice questions.\n",
      "Each question should have 4 options, one of which is correct. The correct answer should be indicated by the letter 'A', 'B', 'C', or 'D'.\n",
      "The questions should be of topic Computer Science in Professional tone. Make sure questions are not repeated mMake sure to format your response like  RESPONSE_JSON below  and use it as a guide.\n",
      "\n",
      "### RESPONSE_JSON\n",
      "{\"1\": {\"mcq\": \"multiple choice question\", \"options\": {\"a\": \"choice here\", \"b\": \"choice here\", \"c\": \"choice here\", \"d\": \"choice here\"}, \"correct\": \"correct answer\"}, \"2\": {\"mcq\": \"multiple choice question\", \"options\": {\"a\": \"choice here\", \"b\": \"choice here\", \"c\": \"choice here\", \"d\": \"choice here\"}, \"correct\": \"correct answer\"}, \"3\": {\"mcq\": \"multiple choice question\", \"options\": {\"a\": \"choice here\", \"b\": \"choice here\", \"c\": \"choice here\", \"d\": \"choice here\"}, \"correct\": \"correct answer\"}}\n",
      "\u001b[0m\n",
      "\n",
      "\u001b[1m> Finished chain.\u001b[0m\n",
      "\n",
      "\u001b[1m> Finished chain.\u001b[0m\n"
     ]
    }
   ],
   "source": [
    "with get_openai_callback() as cb:\n",
    "    response=generate_evaluate_quiz_chain(\n",
    "        {\n",
    "            \"text\": TEXT,\n",
    "            \"number\": NUMBER,\n",
    "            \"subject\":SUBJECT,\n",
    "            \"tone\": TONE,\n",
    "            \"response_json\": json.dumps(RESPONSE_JSON)\n",
    "        }\n",
    "        )"
   ]
  },
  {
   "cell_type": "code",
   "execution_count": 77,
   "id": "4579cfd7",
   "metadata": {},
   "outputs": [
    {
     "data": {
      "text/plain": [
       "{'text': 'Biology is the scientific study of life.[1][2][3] It is a natural science with a broad scope but has several unifying themes that tie it together as a single, coherent field.[1][2][3] For instance, all organisms are made up of cells that process hereditary information encoded in genes, which can be transmitted to future generations. Another major theme is evolution, which explains the unity and diversity of life.[1][2][3] Energy processing is also important to life as it allows organisms to move, grow, and reproduce.[1][2][3] Finally, all organisms are able to regulate their own internal environments.[1][2][3][4][5]\\n\\nBiologists are able to study life at multiple levels of organization,[1] from the molecular biology of a cell to the anatomy and physiology of plants and animals, and evolution of populations.[1][6] Hence, there are multiple subdisciplines within biology, each defined by the nature of their research questions and the tools that they use.[7][8][9] Like other scientists, biologists use the scientific method to make observations, pose questions, generate hypotheses, perform experiments, and form conclusions about the world around them.[1]\\n\\nLife on Earth, which emerged more than 3.7 billion years ago,[10] is immensely diverse. Biologists have sought to study and classify the various forms of life, from prokaryotic organisms such as archaea and bacteria to eukaryotic organisms such as protists, fungi, plants, and animals. These various organisms contribute to the biodiversity of an ecosystem, where they play specialized roles in the cycling of nutrients and energy through their biophysical environment.',\n",
       " 'number': 5,\n",
       " 'subject': 'Computer Science',\n",
       " 'tone': 'Professional',\n",
       " 'response_json': '{\"1\": {\"mcq\": \"multiple choice question\", \"options\": {\"a\": \"choice here\", \"b\": \"choice here\", \"c\": \"choice here\", \"d\": \"choice here\"}, \"correct\": \"correct answer\"}, \"2\": {\"mcq\": \"multiple choice question\", \"options\": {\"a\": \"choice here\", \"b\": \"choice here\", \"c\": \"choice here\", \"d\": \"choice here\"}, \"correct\": \"correct answer\"}, \"3\": {\"mcq\": \"multiple choice question\", \"options\": {\"a\": \"choice here\", \"b\": \"choice here\", \"c\": \"choice here\", \"d\": \"choice here\"}, \"correct\": \"correct answer\"}}',\n",
       " 'quiz': '{\\n    \"1\": {\\n        \"mcq\": \"What is the main theme in biology that explains the unity and diversity of life?\",\\n        \"options\": {\\n            \"a\": \"Evolution\",\\n            \"b\": \"Energy processing\",\\n            \"c\": \"Cellular structure\",\\n            \"d\": \"Internal regulation\"\\n        },\\n        \"correct\": \"a\"\\n    },\\n    \"2\": {\\n        \"mcq\": \"What is a key characteristic of all organisms according to biology?\",\\n        \"options\": {\\n            \"a\": \"Made up of cells\",\\n            \"b\": \"Ability to fly\",\\n            \"c\": \"Inorganic composition\",\\n            \"d\": \"Lack of genetic information\"\\n        },\\n        \"correct\": \"a\"\\n    },\\n    \"3\": {\\n        \"mcq\": \"Which level of organization in biology focuses on the molecular biology of a cell?\",\\n        \"options\": {\\n            \"a\": \"Cellular level\",\\n            \"b\": \"Organismal level\",\\n            \"c\": \"Population level\",\\n            \"d\": \"Community level\"\\n        },\\n        \"correct\": \"a\"\\n    },\\n    \"4\": {\\n        \"mcq\": \"What scientific method do biologists use to make observations and form conclusions?\",\\n        \"options\": {\\n            \"a\": \"Scientific method\",\\n            \"b\": \"Trial and error\",\\n            \"c\": \"Guesswork\",\\n            \"d\": \"Intuition\"\\n        },\\n        \"correct\": \"a\"\\n    },\\n    \"5\": {\\n        \"mcq\": \"How long ago did life on Earth emerge according to the text?\",\\n        \"options\": {\\n            \"a\": \"More than 3.7 billion years ago\",\\n            \"b\": \"Less than 1 million years ago\",\\n            \"c\": \"Exactly 2 billion years ago\",\\n            \"d\": \"Unknown\"\\n        },\\n        \"correct\": \"a\"\\n    }\\n}',\n",
       " 'evaluation': '{\\n\"1\": {\"mcq\": \"What is the primary theme that explains the unity and diversity of life in biology?\", \"options\": {\"a\": \"Evolution\", \"b\": \"Energy processing\", \"c\": \"Cells\", \"d\": \"Regulation of internal environments\"}, \"correct\": \"a\"},\\n\"2\": {\"mcq\": \"Which of the following is NOT a subdiscipline within biology?\", \"options\": {\"a\": \"Botany\", \"b\": \"Zoology\", \"c\": \"Physics\", \"d\": \"Genetics\"}, \"correct\": \"c\"},\\n\"3\": {\"mcq\": \"When did life on Earth emerge according to the text?\", \"options\": {\"a\": \"1.7 billion years ago\", \"b\": \"3.7 billion years ago\", \"c\": \"5.7 billion years ago\", \"d\": \"7.7 billion years ago\"}, \"correct\": \"b\"},\\n\"4\": {\"mcq\": \"What is the primary unit of study in molecular biology?\", \"options\": {\"a\": \"Atoms\", \"b\": \"Cells\", \"c\": \"Molecules\", \"d\": \"Organs\"}, \"correct\": \"c\"},\\n\"5\": {\"mcq\": \"Which of the following organisms are prokaryotic according to the text?\", \"options\": {\"a\": \"Protists\", \"b\": \"Fungi\", \"c\": \"Archaea\", \"d\": \"Plants\"}, \"correct\": \"c\"}\\n}'}"
      ]
     },
     "execution_count": 77,
     "metadata": {},
     "output_type": "execute_result"
    }
   ],
   "source": [
    "response"
   ]
  },
  {
   "cell_type": "code",
   "execution_count": 79,
   "id": "66dd09ab",
   "metadata": {},
   "outputs": [
    {
     "data": {
      "text/plain": [
       "{'text': 'Biology is the scientific study of life.[1][2][3] It is a natural science with a broad scope but has several unifying themes that tie it together as a single, coherent field.[1][2][3] For instance, all organisms are made up of cells that process hereditary information encoded in genes, which can be transmitted to future generations. Another major theme is evolution, which explains the unity and diversity of life.[1][2][3] Energy processing is also important to life as it allows organisms to move, grow, and reproduce.[1][2][3] Finally, all organisms are able to regulate their own internal environments.[1][2][3][4][5]\\n\\nBiologists are able to study life at multiple levels of organization,[1] from the molecular biology of a cell to the anatomy and physiology of plants and animals, and evolution of populations.[1][6] Hence, there are multiple subdisciplines within biology, each defined by the nature of their research questions and the tools that they use.[7][8][9] Like other scientists, biologists use the scientific method to make observations, pose questions, generate hypotheses, perform experiments, and form conclusions about the world around them.[1]\\n\\nLife on Earth, which emerged more than 3.7 billion years ago,[10] is immensely diverse. Biologists have sought to study and classify the various forms of life, from prokaryotic organisms such as archaea and bacteria to eukaryotic organisms such as protists, fungi, plants, and animals. These various organisms contribute to the biodiversity of an ecosystem, where they play specialized roles in the cycling of nutrients and energy through their biophysical environment.',\n",
       " 'number': 5,\n",
       " 'subject': 'Computer Science',\n",
       " 'tone': 'Professional',\n",
       " 'response_json': '{\"1\": {\"mcq\": \"multiple choice question\", \"options\": {\"a\": \"choice here\", \"b\": \"choice here\", \"c\": \"choice here\", \"d\": \"choice here\"}, \"correct\": \"correct answer\"}, \"2\": {\"mcq\": \"multiple choice question\", \"options\": {\"a\": \"choice here\", \"b\": \"choice here\", \"c\": \"choice here\", \"d\": \"choice here\"}, \"correct\": \"correct answer\"}, \"3\": {\"mcq\": \"multiple choice question\", \"options\": {\"a\": \"choice here\", \"b\": \"choice here\", \"c\": \"choice here\", \"d\": \"choice here\"}, \"correct\": \"correct answer\"}}',\n",
       " 'quiz': '{\\n    \"1\": {\\n        \"mcq\": \"What is the main theme in biology that explains the unity and diversity of life?\",\\n        \"options\": {\\n            \"a\": \"Evolution\",\\n            \"b\": \"Energy processing\",\\n            \"c\": \"Cellular structure\",\\n            \"d\": \"Internal regulation\"\\n        },\\n        \"correct\": \"a\"\\n    },\\n    \"2\": {\\n        \"mcq\": \"What is a key characteristic of all organisms according to biology?\",\\n        \"options\": {\\n            \"a\": \"Made up of cells\",\\n            \"b\": \"Ability to fly\",\\n            \"c\": \"Inorganic composition\",\\n            \"d\": \"Lack of genetic information\"\\n        },\\n        \"correct\": \"a\"\\n    },\\n    \"3\": {\\n        \"mcq\": \"Which level of organization in biology focuses on the molecular biology of a cell?\",\\n        \"options\": {\\n            \"a\": \"Cellular level\",\\n            \"b\": \"Organismal level\",\\n            \"c\": \"Population level\",\\n            \"d\": \"Community level\"\\n        },\\n        \"correct\": \"a\"\\n    },\\n    \"4\": {\\n        \"mcq\": \"What scientific method do biologists use to make observations and form conclusions?\",\\n        \"options\": {\\n            \"a\": \"Scientific method\",\\n            \"b\": \"Trial and error\",\\n            \"c\": \"Guesswork\",\\n            \"d\": \"Intuition\"\\n        },\\n        \"correct\": \"a\"\\n    },\\n    \"5\": {\\n        \"mcq\": \"How long ago did life on Earth emerge according to the text?\",\\n        \"options\": {\\n            \"a\": \"More than 3.7 billion years ago\",\\n            \"b\": \"Less than 1 million years ago\",\\n            \"c\": \"Exactly 2 billion years ago\",\\n            \"d\": \"Unknown\"\\n        },\\n        \"correct\": \"a\"\\n    }\\n}',\n",
       " 'evaluation': '{\\n\"1\": {\"mcq\": \"What is the primary theme that explains the unity and diversity of life in biology?\", \"options\": {\"a\": \"Evolution\", \"b\": \"Energy processing\", \"c\": \"Cells\", \"d\": \"Regulation of internal environments\"}, \"correct\": \"a\"},\\n\"2\": {\"mcq\": \"Which of the following is NOT a subdiscipline within biology?\", \"options\": {\"a\": \"Botany\", \"b\": \"Zoology\", \"c\": \"Physics\", \"d\": \"Genetics\"}, \"correct\": \"c\"},\\n\"3\": {\"mcq\": \"When did life on Earth emerge according to the text?\", \"options\": {\"a\": \"1.7 billion years ago\", \"b\": \"3.7 billion years ago\", \"c\": \"5.7 billion years ago\", \"d\": \"7.7 billion years ago\"}, \"correct\": \"b\"},\\n\"4\": {\"mcq\": \"What is the primary unit of study in molecular biology?\", \"options\": {\"a\": \"Atoms\", \"b\": \"Cells\", \"c\": \"Molecules\", \"d\": \"Organs\"}, \"correct\": \"c\"},\\n\"5\": {\"mcq\": \"Which of the following organisms are prokaryotic according to the text?\", \"options\": {\"a\": \"Protists\", \"b\": \"Fungi\", \"c\": \"Archaea\", \"d\": \"Plants\"}, \"correct\": \"c\"}\\n}'}"
      ]
     },
     "execution_count": 79,
     "metadata": {},
     "output_type": "execute_result"
    }
   ],
   "source": [
    "response"
   ]
  },
  {
   "cell_type": "code",
   "execution_count": 80,
   "id": "e6aed5d9",
   "metadata": {},
   "outputs": [],
   "source": [
    "quiz=response.get(\"quiz\")\n"
   ]
  },
  {
   "cell_type": "code",
   "execution_count": 81,
   "id": "189adf02",
   "metadata": {},
   "outputs": [],
   "source": [
    "quiz=json.loads(quiz)\n"
   ]
  },
  {
   "cell_type": "code",
   "execution_count": 82,
   "id": "9e49d267",
   "metadata": {},
   "outputs": [
    {
     "data": {
      "text/plain": [
       "{'1': {'mcq': 'What is the main theme in biology that explains the unity and diversity of life?',\n",
       "  'options': {'a': 'Evolution',\n",
       "   'b': 'Energy processing',\n",
       "   'c': 'Cellular structure',\n",
       "   'd': 'Internal regulation'},\n",
       "  'correct': 'a'},\n",
       " '2': {'mcq': 'What is a key characteristic of all organisms according to biology?',\n",
       "  'options': {'a': 'Made up of cells',\n",
       "   'b': 'Ability to fly',\n",
       "   'c': 'Inorganic composition',\n",
       "   'd': 'Lack of genetic information'},\n",
       "  'correct': 'a'},\n",
       " '3': {'mcq': 'Which level of organization in biology focuses on the molecular biology of a cell?',\n",
       "  'options': {'a': 'Cellular level',\n",
       "   'b': 'Organismal level',\n",
       "   'c': 'Population level',\n",
       "   'd': 'Community level'},\n",
       "  'correct': 'a'},\n",
       " '4': {'mcq': 'What scientific method do biologists use to make observations and form conclusions?',\n",
       "  'options': {'a': 'Scientific method',\n",
       "   'b': 'Trial and error',\n",
       "   'c': 'Guesswork',\n",
       "   'd': 'Intuition'},\n",
       "  'correct': 'a'},\n",
       " '5': {'mcq': 'How long ago did life on Earth emerge according to the text?',\n",
       "  'options': {'a': 'More than 3.7 billion years ago',\n",
       "   'b': 'Less than 1 million years ago',\n",
       "   'c': 'Exactly 2 billion years ago',\n",
       "   'd': 'Unknown'},\n",
       "  'correct': 'a'}}"
      ]
     },
     "execution_count": 82,
     "metadata": {},
     "output_type": "execute_result"
    }
   ],
   "source": [
    "quiz "
   ]
  },
  {
   "cell_type": "code",
   "execution_count": 85,
   "id": "0eca1074",
   "metadata": {},
   "outputs": [],
   "source": [
    "quiz_table = []\n",
    "\n",
    "for key, value in quiz.items():\n",
    "    question = value.get(\"mcq\", \"\")\n",
    "    options = \" | \".join(\n",
    "        [\n",
    "            f\"{option}: {option_value}\"\n",
    "            for option, option_value in value[\"options\"].items()\n",
    "            ]\n",
    "        )\n",
    "    correct_answer = value.get(\"correct\", \"\")\n",
    "    \n",
    "    quiz_table.append({\"MCQ\": question, \"Choices\": options, \"Correct\": correct_answer})\n"
   ]
  },
  {
   "cell_type": "code",
   "execution_count": 86,
   "id": "0eeddb0b",
   "metadata": {},
   "outputs": [
    {
     "data": {
      "text/plain": [
       "[{'MCQ': 'What is the main theme in biology that explains the unity and diversity of life?',\n",
       "  'Choices': 'a: Evolution | b: Energy processing | c: Cellular structure | d: Internal regulation',\n",
       "  'Correct': 'a'},\n",
       " {'MCQ': 'What is a key characteristic of all organisms according to biology?',\n",
       "  'Choices': 'a: Made up of cells | b: Ability to fly | c: Inorganic composition | d: Lack of genetic information',\n",
       "  'Correct': 'a'},\n",
       " {'MCQ': 'Which level of organization in biology focuses on the molecular biology of a cell?',\n",
       "  'Choices': 'a: Cellular level | b: Organismal level | c: Population level | d: Community level',\n",
       "  'Correct': 'a'},\n",
       " {'MCQ': 'What scientific method do biologists use to make observations and form conclusions?',\n",
       "  'Choices': 'a: Scientific method | b: Trial and error | c: Guesswork | d: Intuition',\n",
       "  'Correct': 'a'},\n",
       " {'MCQ': 'How long ago did life on Earth emerge according to the text?',\n",
       "  'Choices': 'a: More than 3.7 billion years ago | b: Less than 1 million years ago | c: Exactly 2 billion years ago | d: Unknown',\n",
       "  'Correct': 'a'}]"
      ]
     },
     "execution_count": 86,
     "metadata": {},
     "output_type": "execute_result"
    }
   ],
   "source": [
    "quiz_table"
   ]
  },
  {
   "cell_type": "code",
   "execution_count": 87,
   "id": "d15b2fe3",
   "metadata": {},
   "outputs": [],
   "source": [
    "quiz = pd.DataFrame(quiz_table)"
   ]
  },
  {
   "cell_type": "code",
   "execution_count": 88,
   "id": "18926c40",
   "metadata": {},
   "outputs": [
    {
     "data": {
      "text/html": [
       "<div>\n",
       "<style scoped>\n",
       "    .dataframe tbody tr th:only-of-type {\n",
       "        vertical-align: middle;\n",
       "    }\n",
       "\n",
       "    .dataframe tbody tr th {\n",
       "        vertical-align: top;\n",
       "    }\n",
       "\n",
       "    .dataframe thead th {\n",
       "        text-align: right;\n",
       "    }\n",
       "</style>\n",
       "<table border=\"1\" class=\"dataframe\">\n",
       "  <thead>\n",
       "    <tr style=\"text-align: right;\">\n",
       "      <th></th>\n",
       "      <th>MCQ</th>\n",
       "      <th>Choices</th>\n",
       "      <th>Correct</th>\n",
       "    </tr>\n",
       "  </thead>\n",
       "  <tbody>\n",
       "    <tr>\n",
       "      <th>0</th>\n",
       "      <td>What is the main theme in biology that explain...</td>\n",
       "      <td>a: Evolution | b: Energy processing | c: Cellu...</td>\n",
       "      <td>a</td>\n",
       "    </tr>\n",
       "    <tr>\n",
       "      <th>1</th>\n",
       "      <td>What is a key characteristic of all organisms ...</td>\n",
       "      <td>a: Made up of cells | b: Ability to fly | c: I...</td>\n",
       "      <td>a</td>\n",
       "    </tr>\n",
       "    <tr>\n",
       "      <th>2</th>\n",
       "      <td>Which level of organization in biology focuses...</td>\n",
       "      <td>a: Cellular level | b: Organismal level | c: P...</td>\n",
       "      <td>a</td>\n",
       "    </tr>\n",
       "    <tr>\n",
       "      <th>3</th>\n",
       "      <td>What scientific method do biologists use to ma...</td>\n",
       "      <td>a: Scientific method | b: Trial and error | c:...</td>\n",
       "      <td>a</td>\n",
       "    </tr>\n",
       "    <tr>\n",
       "      <th>4</th>\n",
       "      <td>How long ago did life on Earth emerge accordin...</td>\n",
       "      <td>a: More than 3.7 billion years ago | b: Less t...</td>\n",
       "      <td>a</td>\n",
       "    </tr>\n",
       "  </tbody>\n",
       "</table>\n",
       "</div>"
      ],
      "text/plain": [
       "                                                 MCQ  \\\n",
       "0  What is the main theme in biology that explain...   \n",
       "1  What is a key characteristic of all organisms ...   \n",
       "2  Which level of organization in biology focuses...   \n",
       "3  What scientific method do biologists use to ma...   \n",
       "4  How long ago did life on Earth emerge accordin...   \n",
       "\n",
       "                                             Choices Correct  \n",
       "0  a: Evolution | b: Energy processing | c: Cellu...       a  \n",
       "1  a: Made up of cells | b: Ability to fly | c: I...       a  \n",
       "2  a: Cellular level | b: Organismal level | c: P...       a  \n",
       "3  a: Scientific method | b: Trial and error | c:...       a  \n",
       "4  a: More than 3.7 billion years ago | b: Less t...       a  "
      ]
     },
     "execution_count": 88,
     "metadata": {},
     "output_type": "execute_result"
    }
   ],
   "source": [
    "quiz"
   ]
  },
  {
   "cell_type": "code",
   "execution_count": 89,
   "id": "a3df9154",
   "metadata": {},
   "outputs": [],
   "source": [
    "quiz.to_csv(\"machinelearning.csv\",index=False)\n"
   ]
  },
  {
   "cell_type": "code",
   "execution_count": null,
   "id": "b5d6e0c9",
   "metadata": {},
   "outputs": [],
   "source": []
  }
 ],
 "metadata": {
  "kernelspec": {
   "display_name": ".venv",
   "language": "python",
   "name": "python3"
  },
  "language_info": {
   "codemirror_mode": {
    "name": "ipython",
    "version": 3
   },
   "file_extension": ".py",
   "mimetype": "text/x-python",
   "name": "python",
   "nbconvert_exporter": "python",
   "pygments_lexer": "ipython3",
   "version": "3.12.10"
  }
 },
 "nbformat": 4,
 "nbformat_minor": 5
}
